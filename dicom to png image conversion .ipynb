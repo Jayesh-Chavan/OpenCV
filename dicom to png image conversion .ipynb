{
 "cells": [
  {
   "cell_type": "code",
   "execution_count": 1,
   "metadata": {},
   "outputs": [],
   "source": [
    "import os\n",
    "import numpy as np\n",
    "import cv2\n",
    "import pandas as pd"
   ]
  },
  {
   "cell_type": "code",
   "execution_count": 2,
   "metadata": {},
   "outputs": [
    {
     "data": {
      "text/plain": [
       "'C:\\\\Users\\\\jaych\\\\Downloads\\\\iAnalyst\\\\Opencv'"
      ]
     },
     "execution_count": 2,
     "metadata": {},
     "output_type": "execute_result"
    }
   ],
   "source": [
    "os.getcwd()"
   ]
  },
  {
   "cell_type": "code",
   "execution_count": 3,
   "metadata": {},
   "outputs": [
    {
     "data": {
      "text/plain": [
       "['.ipynb_checkpoints',\n",
       " '.jovianrc',\n",
       " 'Ball.png',\n",
       " 'Bike.jpg',\n",
       " 'Binary_01.jpg',\n",
       " 'Binary_01_.jpg',\n",
       " 'Binary_02.jpg',\n",
       " 'Binary_03.jpg',\n",
       " 'Binary_04.jpg',\n",
       " 'Binary_05.jpg',\n",
       " 'Binary_Morph (copy).png',\n",
       " 'Binary_Morph.png',\n",
       " 'BW.png',\n",
       " 'Canny-Edge-Detection-Hysteresis-Thresholding.jpg',\n",
       " 'city_normalized.jpg',\n",
       " 'closing.png',\n",
       " 'Contours.png',\n",
       " 'Contour_ShapeDetect.jpg',\n",
       " 'Contour_ShapeDetect_456Star.jpg',\n",
       " 'Contour_ShapeDetect_4Star.jpg',\n",
       " 'Contour_ShapeDetect_Binary.jpg',\n",
       " 'cont_final.webp',\n",
       " 'cont_new.webp',\n",
       " 'Copy of opening.png',\n",
       " 'detectron.ipynb',\n",
       " 'FindingContours.png',\n",
       " 'FindingContours_01.png',\n",
       " 'Ganesh.jpeg',\n",
       " 'Image_01.jpg',\n",
       " 'Image_01.png',\n",
       " 'Image_02.jpg',\n",
       " 'Image_02.png',\n",
       " 'Image_03.jpg',\n",
       " 'Image_04.jpg',\n",
       " 'img20180802_18492118.jpg',\n",
       " 'IMG_20190123_194218.jpg',\n",
       " 'IMG_20210206_101459111_HDR.jpg',\n",
       " 'IndiaMap.jpg',\n",
       " 'IndiaMap.png',\n",
       " 'ManasNatPark.jpeg',\n",
       " 'Mandala.jpg',\n",
       " 'Mo.jpg',\n",
       " 'Moon_01.jpeg',\n",
       " 'my.png',\n",
       " 'New Images',\n",
       " 'NewImage.jpeg',\n",
       " 'nms.jpg',\n",
       " 'Noise_Image.jpg',\n",
       " 'NumberBlocks.png',\n",
       " 'one.gif',\n",
       " 'OpenCV_01_Intro.ipynb',\n",
       " 'OpenCV_02_GUI Features in OpenCV.ipynb',\n",
       " 'OpenCV_03_Core Operations.ipynb',\n",
       " 'OpenCV_04_Image Processing.ipynb',\n",
       " 'opening.png',\n",
       " 'Padding.gif',\n",
       " 'Raigad.jpeg',\n",
       " 'Raigad_Grayscale.png',\n",
       " 'Resized_Moon.jpg',\n",
       " 'road.jpg',\n",
       " 'roag1.jpg',\n",
       " 'Samudra.jpeg',\n",
       " 'Samudra_25.jpg',\n",
       " 'ShapeDetectContour.jpeg',\n",
       " 'Standard_Convolution.gif',\n",
       " 'Sudoku.jpg',\n",
       " 'Sudoku_.jpg',\n",
       " 'TengaVally.jpeg',\n",
       " 'Untitled.ipynb',\n",
       " 'Untitled1.ipynb',\n",
       " 'Velnekars.jpeg',\n",
       " 'Velnekars_25.jpg',\n",
       " 'Watch (copy).jpg',\n",
       " 'Watch.jpg',\n",
       " 'Watch.webp',\n",
       " 'Watch_02.jpg',\n",
       " 'Watch_03.jpg',\n",
       " 'Watch_04.jpg',\n",
       " 'Watch_05.jpg',\n",
       " 'Watch_06.jpg',\n",
       " 'WhatsApp Image 2020-12-01 at 23.14.41-removebg-preview.jpg',\n",
       " 'WritedImage.jpeg',\n",
       " 'X-Ray Dicom Images',\n",
       " 'X-ray jpeg']"
      ]
     },
     "execution_count": 3,
     "metadata": {},
     "output_type": "execute_result"
    }
   ],
   "source": [
    "os.listdir()"
   ]
  },
  {
   "cell_type": "code",
   "execution_count": 4,
   "metadata": {},
   "outputs": [
    {
     "data": {
      "text/plain": [
       "'jpg'"
      ]
     },
     "execution_count": 4,
     "metadata": {},
     "output_type": "execute_result"
    }
   ],
   "source": [
    "os.listdir()[5].split('.')[1]"
   ]
  },
  {
   "cell_type": "code",
   "execution_count": 5,
   "metadata": {},
   "outputs": [
    {
     "name": "stdout",
     "output_type": "stream",
     "text": [
      "['ipynb_checkpoints', 'jovianrc', 'png', 'jpg', 'jpg', 'jpg', 'jpg', 'jpg', 'jpg', 'jpg', 'png', 'png', 'png', 'jpg', 'jpg', 'png', 'png', 'jpg', 'jpg', 'jpg', 'jpg', 'webp', 'webp', 'png', 'ipynb', 'png', 'png', 'jpeg', 'jpg', 'png', 'jpg', 'png', 'jpg', 'jpg', 'jpg', 'jpg', 'jpg', 'jpg', 'png', 'jpeg', 'jpg', 'jpg', 'jpeg', 'png', 'jpeg', 'jpg', 'jpg', 'png', 'gif', 'ipynb', 'ipynb', 'ipynb', 'ipynb', 'png', 'gif', 'jpeg', 'png', 'jpg', 'jpg', 'jpg', 'jpeg', 'jpg', 'jpeg', 'gif', 'jpg', 'jpg', 'jpeg', 'ipynb', 'ipynb', 'jpeg', 'jpg', 'jpg', 'jpg', 'webp', 'jpg', 'jpg', 'jpg', 'jpg', 'jpg', '14', 'jpeg']\n"
     ]
    }
   ],
   "source": [
    "#type of files we have in folder \n",
    "type_of_files = []\n",
    "for i in  os.listdir():\n",
    "    if '.' in i:\n",
    "        type_of_files.append(i.split('.')[1])\n",
    "    else:\n",
    "        pass\n",
    "    \n",
    "print((type_of_files))"
   ]
  },
  {
   "cell_type": "code",
   "execution_count": 6,
   "metadata": {},
   "outputs": [
    {
     "data": {
      "text/plain": [
       "jpg                  39\n",
       "png                  16\n",
       "jpeg                 10\n",
       "ipynb                 7\n",
       "gif                   3\n",
       "webp                  3\n",
       "jovianrc              1\n",
       "ipynb_checkpoints     1\n",
       "14                    1\n",
       "dtype: int64"
      ]
     },
     "execution_count": 6,
     "metadata": {},
     "output_type": "execute_result"
    }
   ],
   "source": [
    "t=pd.Series(type_of_files)\n",
    "t.value_counts()\n"
   ]
  },
  {
   "cell_type": "code",
   "execution_count": 7,
   "metadata": {},
   "outputs": [
    {
     "name": "stdout",
     "output_type": "stream",
     "text": [
      "Total images in folder: 69\n",
      "\n",
      "['Ball.png', 'Bike.jpg', 'Binary_01.jpg', 'Binary_01_.jpg', 'Binary_02.jpg', 'Binary_03.jpg', 'Binary_04.jpg', 'Binary_05.jpg', 'Binary_Morph (copy).png', 'Binary_Morph.png', 'BW.png', 'Canny-Edge-Detection-Hysteresis-Thresholding.jpg', 'city_normalized.jpg', 'closing.png', 'Contours.png', 'Contour_ShapeDetect.jpg', 'Contour_ShapeDetect_456Star.jpg', 'Contour_ShapeDetect_4Star.jpg', 'Contour_ShapeDetect_Binary.jpg', 'cont_final.webp', 'cont_new.webp', 'Copy of opening.png', 'FindingContours.png', 'FindingContours_01.png', 'Ganesh.jpeg', 'Image_01.jpg', 'Image_01.png', 'Image_02.jpg', 'Image_02.png', 'Image_03.jpg', 'Image_04.jpg', 'img20180802_18492118.jpg', 'IMG_20190123_194218.jpg', 'IMG_20210206_101459111_HDR.jpg', 'IndiaMap.jpg', 'IndiaMap.png', 'ManasNatPark.jpeg', 'Mandala.jpg', 'Mo.jpg', 'Moon_01.jpeg', 'my.png', 'NewImage.jpeg', 'nms.jpg', 'Noise_Image.jpg', 'NumberBlocks.png', 'opening.png', 'Raigad.jpeg', 'Raigad_Grayscale.png', 'Resized_Moon.jpg', 'road.jpg', 'roag1.jpg', 'Samudra.jpeg', 'Samudra_25.jpg', 'ShapeDetectContour.jpeg', 'Sudoku.jpg', 'Sudoku_.jpg', 'TengaVally.jpeg', 'Velnekars.jpeg', 'Velnekars_25.jpg', 'Watch (copy).jpg', 'Watch.jpg', 'Watch.webp', 'Watch_02.jpg', 'Watch_03.jpg', 'Watch_04.jpg', 'Watch_05.jpg', 'Watch_06.jpg', 'WhatsApp Image 2020-12-01 at 23.14.41-removebg-preview.jpg', 'WritedImage.jpeg']\n"
     ]
    }
   ],
   "source": [
    "image_in_folder = []\n",
    "for i in os.listdir():\n",
    "    if ('.png' in i) or ('.jpg' in i) or ('.jpeg' in i) or ('.webp' in i): \n",
    "        image_in_folder.append(i)\n",
    "        \n",
    "print('Total images in folder: {}'.format(len(image_in_folder)))\n",
    "print()\n",
    "print(image_in_folder)"
   ]
  },
  {
   "cell_type": "code",
   "execution_count": null,
   "metadata": {},
   "outputs": [],
   "source": []
  },
  {
   "cell_type": "code",
   "execution_count": 8,
   "metadata": {},
   "outputs": [],
   "source": [
    "for i in range(len(image_in_folder)-1,-1,-1):\n",
    "    #reading images from our directory\n",
    "    image = cv2.imread(image_in_folder[i], cv2.IMREAD_COLOR)\n",
    "    \n",
    "    #resizing images\n",
    "    resized_image = cv2.resize(image, (200,200))\n",
    "    \n",
    "    #changing directory to new folder\n",
    "    os.chdir('C:\\\\Users\\\\jaych\\\\Downloads\\\\iAnalyst\\\\Opencv\\\\New Images')\n",
    "    \n",
    "    #writing images to new folder\n",
    "    cv2.imwrite(image_in_folder[i], resized_image)\n",
    "    \n",
    "    #making directory to default to read images again\n",
    "    os.chdir('C:\\\\Users\\\\jaych\\\\Downloads\\\\iAnalyst\\\\Opencv')"
   ]
  },
  {
   "cell_type": "code",
   "execution_count": null,
   "metadata": {},
   "outputs": [],
   "source": []
  },
  {
   "cell_type": "code",
   "execution_count": 9,
   "metadata": {},
   "outputs": [
    {
     "name": "stdout",
     "output_type": "stream",
     "text": [
      "Total images in folder: 69\n",
      "\n",
      "['Ball.png', 'Bike.jpg', 'Binary_01.jpg', 'Binary_01_.jpg', 'Binary_02.jpg', 'Binary_03.jpg', 'Binary_04.jpg', 'Binary_05.jpg', 'Binary_Morph (copy).png', 'Binary_Morph.png', 'BW.png', 'Canny-Edge-Detection-Hysteresis-Thresholding.jpg', 'city_normalized.jpg', 'closing.png', 'Contours.png', 'Contour_ShapeDetect.jpg', 'Contour_ShapeDetect_456Star.jpg', 'Contour_ShapeDetect_4Star.jpg', 'Contour_ShapeDetect_Binary.jpg', 'cont_final.webp', 'cont_new.webp', 'Copy of opening.png', 'FindingContours.png', 'FindingContours_01.png', 'Ganesh.jpeg', 'Image_01.jpg', 'Image_01.png', 'Image_02.jpg', 'Image_02.png', 'Image_03.jpg', 'Image_04.jpg', 'img20180802_18492118.jpg', 'IMG_20190123_194218.jpg', 'IMG_20210206_101459111_HDR.jpg', 'IndiaMap.jpg', 'IndiaMap.png', 'ManasNatPark.jpeg', 'Mandala.jpg', 'Mo.jpg', 'Moon_01.jpeg', 'my.png', 'NewImage.jpeg', 'nms.jpg', 'Noise_Image.jpg', 'NumberBlocks.png', 'opening.png', 'Raigad.jpeg', 'Raigad_Grayscale.png', 'Resized_Moon.jpg', 'road.jpg', 'roag1.jpg', 'Samudra.jpeg', 'Samudra_25.jpg', 'ShapeDetectContour.jpeg', 'Sudoku.jpg', 'Sudoku_.jpg', 'TengaVally.jpeg', 'Velnekars.jpeg', 'Velnekars_25.jpg', 'Watch (copy).jpg', 'Watch.jpg', 'Watch.webp', 'Watch_02.jpg', 'Watch_03.jpg', 'Watch_04.jpg', 'Watch_05.jpg', 'Watch_06.jpg', 'WhatsApp Image 2020-12-01 at 23.14.41-removebg-preview.jpg', 'WritedImage.jpeg']\n"
     ]
    }
   ],
   "source": [
    "os.chdir('C:\\\\Users\\\\jaych\\\\Downloads\\\\iAnalyst\\\\Opencv\\\\New Images')\n",
    "print('Total images in folder: {}'.format(len(os.listdir())))\n",
    "print()\n",
    "print(os.listdir())\n",
    "os.chdir('C:\\\\Users\\\\jaych\\\\Downloads\\\\iAnalyst\\\\Opencv')"
   ]
  },
  {
   "cell_type": "code",
   "execution_count": null,
   "metadata": {},
   "outputs": [],
   "source": []
  },
  {
   "cell_type": "code",
   "execution_count": 10,
   "metadata": {
    "scrolled": true
   },
   "outputs": [],
   "source": [
    "#pip install pydicom\n",
    "#pip install python-gdcm"
   ]
  },
  {
   "cell_type": "code",
   "execution_count": 11,
   "metadata": {},
   "outputs": [],
   "source": [
    "import pydicom as dicom\n",
    "import matplotlib.pyplot as plt\n"
   ]
  },
  {
   "cell_type": "code",
   "execution_count": 12,
   "metadata": {},
   "outputs": [
    {
     "data": {
      "text/plain": [
       "'C:\\\\Users\\\\jaych\\\\Downloads\\\\iAnalyst\\\\Opencv'"
      ]
     },
     "execution_count": 12,
     "metadata": {},
     "output_type": "execute_result"
    }
   ],
   "source": [
    "os.getcwd()"
   ]
  },
  {
   "cell_type": "code",
   "execution_count": 13,
   "metadata": {},
   "outputs": [],
   "source": [
    "os.chdir('C:\\\\Users\\\\jaych\\\\Downloads\\\\iAnalyst\\\\Opencv\\\\X-Ray Dicom Images')"
   ]
  },
  {
   "cell_type": "code",
   "execution_count": 14,
   "metadata": {},
   "outputs": [
    {
     "data": {
      "text/plain": [
       "'000ae00eb3942d27e0b97903dd563a6e.dicom'"
      ]
     },
     "execution_count": 14,
     "metadata": {},
     "output_type": "execute_result"
    }
   ],
   "source": [
    "os.listdir()[1]"
   ]
  },
  {
   "cell_type": "code",
   "execution_count": 15,
   "metadata": {},
   "outputs": [],
   "source": [
    "os.chdir('C:\\\\Users\\\\jaych\\\\Downloads\\\\iAnalyst\\\\Opencv\\\\X-Ray Dicom Images')"
   ]
  },
  {
   "cell_type": "code",
   "execution_count": 31,
   "metadata": {},
   "outputs": [
    {
     "name": "stdout",
     "output_type": "stream",
     "text": [
      "00a7e1e81b2122e5a0f298155573e549.dicom\n"
     ]
    },
    {
     "data": {
      "text/plain": [
       "<matplotlib.image.AxesImage at 0x1cb380e8b50>"
      ]
     },
     "execution_count": 31,
     "metadata": {},
     "output_type": "execute_result"
    },
    {
     "data": {
      "image/png": "[encoded data removed]",
      "text/plain": [
       "<Figure size 432x288 with 1 Axes>"
      ]
     },
     "metadata": {
      "needs_background": "light"
     },
     "output_type": "display_data"
    }
   ],
   "source": [
    "#specify image path (i.e. image 1)  if path different then look the directory\n",
    "os.chdir('C:\\\\Users\\\\jaych\\\\Downloads\\\\iAnalyst\\\\Opencv\\\\X-Ray Dicom Images')\n",
    "image_path = os.listdir()[3]   \n",
    "print(image_path)\n",
    "ds = dicom.dcmread(image_path)\n",
    "plt.imshow(ds.pixel_array)"
   ]
  },
  {
   "cell_type": "code",
   "execution_count": 17,
   "metadata": {},
   "outputs": [],
   "source": [
    "pixel_array_numpy = ds.pixel_array\n",
    "#print(pixel_array_numpy)\n",
    "\n",
    "image_format =  '.png'\n",
    "#print(image_format)\n",
    "image_path = image_path.replace('.dicom', image_format)\n",
    "#print(image_path)\n",
    "\n"
   ]
  },
  {
   "cell_type": "code",
   "execution_count": 18,
   "metadata": {},
   "outputs": [
    {
     "data": {
      "text/plain": [
       "True"
      ]
     },
     "execution_count": 18,
     "metadata": {},
     "output_type": "execute_result"
    }
   ],
   "source": [
    "os.chdir('C:\\\\Users\\\\jaych\\\\Downloads\\\\iAnalyst\\\\Opencv\\\\X-ray jpeg')\n",
    "cv2.imwrite(image_path, pixel_array_numpy )"
   ]
  },
  {
   "cell_type": "code",
   "execution_count": 19,
   "metadata": {},
   "outputs": [
    {
     "data": {
      "text/plain": [
       "'C:\\\\Users\\\\jaych\\\\Downloads\\\\iAnalyst\\\\Opencv\\\\X-ray jpeg'"
      ]
     },
     "execution_count": 19,
     "metadata": {},
     "output_type": "execute_result"
    }
   ],
   "source": [
    "os.getcwd()"
   ]
  },
  {
   "cell_type": "code",
   "execution_count": 20,
   "metadata": {},
   "outputs": [],
   "source": [
    "os.chdir('C:\\\\Users\\\\jaych\\\\Downloads\\\\iAnalyst\\\\Opencv\\\\X-Ray Dicom Images')"
   ]
  },
  {
   "cell_type": "markdown",
   "metadata": {},
   "source": [
    "# Convert dicom to png "
   ]
  },
  {
   "cell_type": "code",
   "execution_count": 21,
   "metadata": {},
   "outputs": [
    {
     "name": "stdout",
     "output_type": "stream",
     "text": [
      "000ae00eb3942d27e0b97903dd563a6e.dicom\n",
      "000d68e42b71d3eac10ccc077aba07c1.dicom\n",
      "00a7e1e81b2122e5a0f298155573e549.dicom\n",
      "00a9f697d85a506d5b281f588addce4e.dicom\n",
      "00aca42a24e4ea6066cca2546150c36e.dicom\n",
      "00ad02393a5d0bd1e0dcf3196433499f.dicom\n",
      "00b05e693202bb65a0c0ca7a0201495d.dicom\n",
      "00bedb314b716e802e72799b17edb059.dicom\n",
      "00c4051383149d0dbe166f38b67c9b52.dicom\n",
      "00c726dca086fc483d639dd5f1ca48c0.dicom\n",
      "00ce367afd1ecefd6bcbed64ce1f82b2.dicom\n",
      "00dc70e84d141255f7fc6f8038bdd72e.dicom\n",
      "00e25f831ccd21bd41b558cfccbf1be7.dicom\n",
      "00e9d7e1203324adb7e6fcc02231e3aa.dicom\n",
      "00ef59a43670dc2ae8edc383bcd52d97.dicom\n",
      "00f14d2898f10c7019b359958e6bc3c4.dicom\n",
      "00f2f97f74e086e1f82acc285ee4a5c5.dicom\n",
      "0a01e85a77546c597ca87cd04e922a31.dicom\n",
      "0a072917005494298d153c01bbd8f689.dicom\n",
      "0a0ac65c40a9ac441651e4bfbde03c4e.dicom\n",
      "0a0b773c653cea6653a1e02faf1566a5.dicom\n",
      "0a114862f10f4021fa7fd916b93aea94.dicom\n",
      "0a14aeaf02d42990d8bb5d55270b7274.dicom\n",
      "0a1665762c67817e64f4cbee1c79b44f.dicom\n",
      "0a16dc6491142ff8c7c36f3b3f4ebd02.dicom\n",
      "0a18ba620458e09504405e6a0a79ce2e.dicom\n",
      "0a191458e89dd7016e2032e9898bb5f8.dicom\n",
      "0a1aef5326b7b24378c6692f7a454e52.dicom\n",
      "0a212b35778c1bce896d4574124c6441.dicom\n",
      "0a26a07d95ed851cdfc7f55f44e2ba77.dicom\n",
      "0a2a1f3849c4b41e6d6715bb919c158a.dicom\n",
      "0a2afec0536af1dde1f5468980cf4cbf.dicom\n",
      "0a2d01ecb9e01cf972c1e1d31ccacb98.dicom\n",
      "0a3022286196be410476be6b60733b43.dicom\n",
      "0a380c45055b031c116507bdc5acff33.dicom\n",
      "0a3b8d3f979c06dc7b8ff6cf1f9343e4.dicom\n",
      "0a404541211c7910862e886772e31ae4.dicom\n",
      "0a411e44ec67f3d5d80a5b3d5a3edca3.dicom\n",
      "0a425edf1164ad0a73e8b092c4cc8b3b.dicom\n",
      "0a466b4369d04de6d5a339f57f605765.dicom\n",
      "0a475ad0b37bba0c638bbbe2ee5d355d.dicom\n",
      "0a4d6ab40e013041bc8a6d2ed5426316.dicom\n",
      "0a4fbc9ade84a7abd1680eb8ba031a9d.dicom\n",
      "0a50d4ee79163edbf6f2d5c3082c2f51.dicom\n",
      "0a5da3b480ea895bafe976f54050c9f1.dicom\n",
      "0a61578e3d77b1cebc86d13a41efa31b.dicom\n",
      "0a678538e529b9f1089c47bb2ffcda9b.dicom\n",
      "0a695a94168b32705b91779586c6b2e7.dicom\n",
      "0a75c2f2e7bc1090077b8ef4aeeeacce.dicom\n",
      "0a7aec5bd4485a6f5b67e53a8636305c.dicom\n",
      "0a80df703ea62ce2c98aab7e6cd995c8.dicom\n",
      "0a8b7a6bc6b604bd67eff9d5258b959a.dicom\n",
      "0a8d69d1c45bece901929db269a5e6cf.dicom\n",
      "0a8df2eb98d3c1cec5200c9b2a6132f2.dicom\n",
      "0a8e6cb00c56ff52e3489ccd6305a758.dicom\n",
      "0a8e835f9864b88429863f285c11078d.dicom\n",
      "0a9304d103869d45553070a5717cf82f.dicom\n",
      "0a953437a2627f2080cc6c8c5939d59b.dicom\n",
      "0a9909b1cd924cd593151ba2d3d3dd55.dicom\n",
      "0a995008837cb48086dfe044a726f355.dicom\n",
      "0aa04c0bff3f7c0d1bd97c41d0c14bd5.dicom\n",
      "0aa05f2d84af7e6e733730afa17eac2d.dicom\n",
      "0aa75e34705ae441a95c2869469c0f31.dicom\n",
      "0aa9ffc4b4bbe561e983be219497240b.dicom\n",
      "0aabf7009dcd5866ab3e0b10a44ad91c.dicom\n",
      "0aad4ac2ea24742e3f9de3d29fae6d95.dicom\n",
      "0ab324eecf351387034be4da9faddb07.dicom\n",
      "0ab8c789c5bd3e97a62507d760e02e90.dicom\n",
      "0abc9663ba5cfb779dbc26960dbc5b81.dicom\n",
      "0abd4fc2425edd5c2efb2c149e9319c6.dicom\n",
      "0ac148392d4a9e42884f178cd8de015a.dicom\n",
      "0ac15450c8868c52521cd9bb4c3f74a7.dicom\n",
      "0ac383fcdc6f1957b3ecceaf0acec909.dicom\n",
      "0acad710903d144db1ed35a1fee56993.dicom\n",
      "0acfd24d0d78cb27f1a97c5d89e43050.dicom\n",
      "0ad8663c40dedf625c03ecc586af5c52.dicom\n",
      "0ad8d7f0f8a9bc784c8bb38e50a63beb.dicom\n",
      "0ad98c531de3616cc63a92d6cf871494.dicom\n",
      "0ada863fb878555ffd8dbd34e2496f76.dicom\n",
      "0ae12e31674667003309519e5f98304a.dicom\n",
      "0ae3eb69e2179773256718264fa199b4.dicom\n",
      "0ae5b1fd17fa6ddd9cf61e774e8af122.dicom\n",
      "0ae620944412bde5a4698049c2bbd3af.dicom\n",
      "0ae8662d977c0bdcb68f704be748f065.dicom\n",
      "0aebd7e296fbaae90a154e7989cb7e06.dicom\n",
      "0aee36a63b071c37c1d647d931c7a833.dicom\n",
      "0b02aeb680984f6bee2fbd517f1fa6d4.dicom\n",
      "0b0c71f182ad71d65d0425f6c9008f94.dicom\n",
      "0b0e106a53f9dc3b28a9b15f94510b7a.dicom\n",
      "0b0fa9da5382959b802284f725a2ce30.dicom\n",
      "0b1ac7f8267aa361183b90592618945f.dicom\n",
      "0b1b897b1e1e170f1b5fd7aeff553afa.dicom\n",
      "0b3f09a003f9cbc1e8c54f230be2ba2d.dicom\n",
      "0b4bfa8697aa6c71b86ee112bd775b24.dicom\n",
      "0b4c3cb187f7582fa482b8f0fded6bd7.dicom\n",
      "0b5b42c2920b109c7c876c6ddfcf8df8.dicom\n",
      "0b5d222662dfa80d7ba8b101bb88e20c.dicom\n",
      "0b6c10e0cd5868289d11c20da87410b8.dicom\n",
      "0b8c73a84bc8b5f1a11b27619c1bd8a3.dicom\n"
     ]
    }
   ],
   "source": [
    "for i in range(1,len(os.listdir())):\n",
    "    #specify image path (i.e. image 1)  if path different then look the directory\n",
    "    os.chdir('C:\\\\Users\\\\jaych\\\\Downloads\\\\iAnalyst\\\\Opencv\\\\X-Ray Dicom Images')\n",
    "    image_path = os.listdir()[i]   \n",
    "    print(image_path)\n",
    "    \n",
    "    #reading dicom image\n",
    "    ds = dicom.dcmread(image_path)\n",
    "    #plt.imshow(ds.pixel_array)\n",
    "    \n",
    "    #extracting pixel array\n",
    "    pixel_array_numpy = ds.pixel_array\n",
    "    #print(pixel_array_numpy)\n",
    "\n",
    "    # To write dicom extension in png format\n",
    "    image_format =  '.png'\n",
    "    #print(image_format)\n",
    "    image_path = image_path.replace('.dicom', image_format)\n",
    "    #print(image_path)\n",
    "\n",
    "    os.chdir('C:\\\\Users\\\\jaych\\\\Downloads\\\\iAnalyst\\\\Opencv\\\\X-ray jpeg')\n",
    "    cv2.imwrite(image_path, pixel_array_numpy )"
   ]
  },
  {
   "cell_type": "markdown",
   "metadata": {},
   "source": [
    "### Total images we converted to png format"
   ]
  },
  {
   "cell_type": "code",
   "execution_count": 26,
   "metadata": {},
   "outputs": [
    {
     "name": "stdout",
     "output_type": "stream",
     "text": [
      "Total images in folder: 99\n",
      "\n"
     ]
    }
   ],
   "source": [
    "image_in_folder = []\n",
    "for i in os.listdir():\n",
    "    if ('.png' in i): #or ('.jpg' in i) or ('.jpeg' in i) or ('.webp' in i): \n",
    "        image_in_folder.append(i)\n",
    "        \n",
    "print('Total images in folder: {}'.format(len(image_in_folder)))\n",
    "print()\n",
    "#print(image_in_folder)"
   ]
  },
  {
   "cell_type": "markdown",
   "metadata": {},
   "source": [
    "## Resizing image and saving to different folder"
   ]
  },
  {
   "cell_type": "code",
   "execution_count": 27,
   "metadata": {},
   "outputs": [],
   "source": [
    "for i in range(len(image_in_folder)-1,-1,-1):\n",
    "    #reading images from our directory\n",
    "    image = cv2.imread(image_in_folder[i], cv2.IMREAD_COLOR)\n",
    "    \n",
    "    #resizing images\n",
    "    resized_image = cv2.resize(image, (200,200))\n",
    "    \n",
    "    #changing directory to new folder\n",
    "    os.chdir('C:\\\\Users\\\\jaych\\\\Downloads\\\\iAnalyst\\\\Opencv\\\\New Images')\n",
    "    \n",
    "    #writing images to new folder\n",
    "    cv2.imwrite(image_in_folder[i], resized_image)\n",
    "    \n",
    "    #making directory to default to read images again\n",
    "    os.chdir('C:\\\\Users\\\\jaych\\\\Downloads\\\\iAnalyst\\\\Opencv\\\\X-ray jpeg')"
   ]
  },
  {
   "cell_type": "code",
   "execution_count": null,
   "metadata": {},
   "outputs": [],
   "source": []
  },
  {
   "cell_type": "code",
   "execution_count": null,
   "metadata": {},
   "outputs": [],
   "source": []
  }
 ],
 "metadata": {
  "kernelspec": {
   "display_name": "Python 3",
   "language": "python",
   "name": "python3"
  },
  "language_info": {
   "codemirror_mode": {
    "name": "ipython",
    "version": 3
   },
   "file_extension": ".py",
   "mimetype": "text/x-python",
   "name": "python",
   "nbconvert_exporter": "python",
   "pygments_lexer": "ipython3",
   "version": "3.8.3"
  }
 },
 "nbformat": 4,
 "nbformat_minor": 4
}
